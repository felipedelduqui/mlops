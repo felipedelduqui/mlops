{
  "nbformat": 4,
  "nbformat_minor": 0,
  "metadata": {
    "colab": {
      "name": "sentiment_analysis.ipynb",
      "provenance": [],
      "collapsed_sections": [],
      "toc_visible": true
    },
    "kernelspec": {
      "name": "python3",
      "display_name": "Python 3"
    },
    "language_info": {
      "name": "python"
    }
  },
  "cells": [
    {
      "cell_type": "code",
      "source": [
        "#If textblob is not installed\n",
        "\n",
        "#!pip install textblob"
      ],
      "metadata": {
        "colab": {
          "base_uri": "https://localhost:8080/"
        },
        "id": "cJ7g_0HWFiZQ",
        "outputId": "6b5b371e-ee69-487d-bf0b-675476047c7f"
      },
      "execution_count": null,
      "outputs": [
        {
          "output_type": "stream",
          "name": "stdout",
          "text": [
            "Requirement already satisfied: textblob in /usr/local/lib/python3.7/dist-packages (0.15.3)\n",
            "Requirement already satisfied: nltk>=3.1 in /usr/local/lib/python3.7/dist-packages (from textblob) (3.2.5)\n",
            "Requirement already satisfied: six in /usr/local/lib/python3.7/dist-packages (from nltk>=3.1->textblob) (1.15.0)\n"
          ]
        }
      ]
    },
    {
      "cell_type": "code",
      "source": [
        "from textblob import TextBlob\n",
        "\n",
        "frase = \"Python é ótimo para Machine Learning\"\n",
        "tb = TextBlob(frase)\n",
        "tb_en = tb.translate(to='en')\n",
        "a = tb_en.sentiment.polarity\n",
        "b = tb_en.polarity\n",
        "print('{} using .sentiment.polarity \\n{} using .polarity'.format(a,b))"
      ],
      "metadata": {
        "id": "9tLd_creFs1-",
        "colab": {
          "base_uri": "https://localhost:8080/"
        },
        "outputId": "588ba8ab-5ac5-4759-ebab-1099ca81e012"
      },
      "execution_count": null,
      "outputs": [
        {
          "output_type": "stream",
          "name": "stdout",
          "text": [
            "0.8 using .sentiment.polarity \n",
            "0.8 using .polarity\n"
          ]
        }
      ]
    },
    {
      "cell_type": "code",
      "source": [
        "sentence = \"Python é ótimo para Machine Learning\"\n",
        "tb = TextBlob(sentence)\n",
        "tb_en = tb.translate(to='en')\n",
        "# print('Sentence: {} /nPolarity: {}'.format(sentence, tb_en.sentiment.polarity))   \n",
        "tb_en.sentiment.polarity\n"
      ],
      "metadata": {
        "colab": {
          "base_uri": "https://localhost:8080/"
        },
        "id": "jsX8Xtq5ZHLO",
        "outputId": "e0959206-642c-4f75-cb60-2b3fd6b69e2c"
      },
      "execution_count": null,
      "outputs": [
        {
          "output_type": "execute_result",
          "data": {
            "text/plain": [
              "0.8"
            ]
          },
          "metadata": {},
          "execution_count": 3
        }
      ]
    }
  ]
}